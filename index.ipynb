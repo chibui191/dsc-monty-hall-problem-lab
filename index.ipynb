{
 "cells": [
  {
   "cell_type": "markdown",
   "metadata": {},
   "source": [
    "# The Monty Hall Problem\n",
    "\n",
    "## Introduction\n",
    "\n",
    "The Monty Hall problem is a famous little puzzle from a game show. It goes like this: you are presented with 3 doors. Behind two are goats and behind the third is a car. You are asked to select a door; if you select the door with the car, you win! After selecting, the host then opens one of the remaining two doors, revealing a goat. The host then asks if you would like to switch doors or stick with your original choice. What would you do? Does it matter?\n",
    "\n",
    "<img src=\"images/Image_58_MontyHall.png\">\n",
    "\n",
    "## Objectives\n",
    "\n",
    "In this lab you will:\n",
    "\n",
    "- Use Bayes' theorem along with a simulation to solve the Monty Hall problem"
   ]
  },
  {
   "cell_type": "markdown",
   "metadata": {},
   "source": [
    "## Run a simulation\n",
    "\n",
    "This is not a traditional application of Bayes' theorem, so trying to formulate the problem as such is tricky at best. That said, the scenario does capture the motivating conception behind Bayesian statistics: updating our beliefs in the face of additional evidence. With this, you'll employ another frequently used tool Bayesians frequently employ, running simulations. To do this, generate a random integer between one and three to represent the door hiding the car. Then, generate a second integer between one and three representing the player's selection. Then, of those the contestant did not choose, select a door concealing a goat to reveal. Record the results of the simulated game if they changed versus if they did not. Repeat this process a thousand (or more) times. Finally, plot the results of your simulation as a line graph. The x-axis should be the number of simulations, and the y-axis should be the probability of winning. (There should be two lines on the graph, one for switching doors, and the other for keeping the original selection.)"
   ]
  },
  {
   "cell_type": "code",
   "execution_count": 1,
   "metadata": {},
   "outputs": [],
   "source": [
    "import numpy as np\n",
    "import matplotlib.pyplot as plt"
   ]
  },
  {
   "cell_type": "code",
   "execution_count": 4,
   "metadata": {},
   "outputs": [
    {
     "name": "stdout",
     "output_type": "stream",
     "text": [
      "Chance of winning if staying with selected door: 0.3316\n",
      "Chance of winning if switching to another door: 0.6684\n"
     ]
    },
    {
     "data": {
      "image/png": "[encoded data removed]",
      "text/plain": [
       "<Figure size 720x504 with 1 Axes>"
      ]
     },
     "metadata": {
      "needs_background": "light"
     },
     "output_type": "display_data"
    }
   ],
   "source": [
    "# Your code here\n",
    "n_sim = 5000\n",
    "doors = [1,2,3]\n",
    "if_stayed = []\n",
    "if_switched = []\n",
    "\n",
    "for n in range(n_sim):\n",
    "    # random int representing door hiding car\n",
    "    d_car = np.random.randint(1,4)\n",
    "    \n",
    "    # random int representing player's selection\n",
    "    d_opt1 = np.random.randint(1,4)\n",
    "    \n",
    "    # get the remaining doors that were not selected\n",
    "    remaining_doors = [d for d in doors if d != d_opt1]\n",
    "    # pick the door != d_car to show goat\n",
    "    show_goat = [d for d in remaining_doors if d != d_car]\n",
    "    # select a random door in 'show_goat'\n",
    "    to_open = np.random.choice(show_goat)\n",
    "    \n",
    "    # if switching door\n",
    "    d_opt2 = [d for d in doors if d != to_open and d != d_opt1][0]\n",
    "    \n",
    "    # if staying with same choice:\n",
    "    stay = 1 if d_opt1 == d_car else 0\n",
    "    if_stayed.append(stay)\n",
    "        \n",
    "    # if switching to the other door\n",
    "    switch = 1 if d_opt2 == d_car else 0\n",
    "    if_switched.append(switch)\n",
    "\n",
    "print('Chance of winning if staying with selected door:', np.mean(if_stayed))\n",
    "print('Chance of winning if switching to another door:', np.mean(if_switched))\n",
    "xs = np.arange(1,(n_sim+1))\n",
    "plt.figure(figsize=(10,7))\n",
    "plt.plot(xs, [np.mean(if_stayed[:i]) for i in xs], label='Stay with Selected Door')\n",
    "plt.plot(xs, [np.mean(if_switched[:i]) for i in xs], label='Switch to Other Door')\n",
    "plt.legend()               \n",
    "plt.show();"
   ]
  },
  {
   "cell_type": "markdown",
   "metadata": {},
   "source": [
    "## Summary\n",
    "\n",
    "In this lab, you further investigated the idea of Bayes' theorem and Bayesian statistics in general through the Monty Hall problem. Hopefully, this was an entertaining little experience! "
   ]
  }
 ],
 "metadata": {
  "kernelspec": {
   "display_name": "Python 3",
   "language": "python",
   "name": "python3"
  },
  "language_info": {
   "codemirror_mode": {
    "name": "ipython",
    "version": 3
   },
   "file_extension": ".py",
   "mimetype": "text/x-python",
   "name": "python",
   "nbconvert_exporter": "python",
   "pygments_lexer": "ipython3",
   "version": "3.8.5"
  },
  "toc": {
   "base_numbering": 1,
   "nav_menu": {},
   "number_sections": true,
   "sideBar": true,
   "skip_h1_title": false,
   "title_cell": "Table of Contents",
   "title_sidebar": "Contents",
   "toc_cell": false,
   "toc_position": {},
   "toc_section_display": true,
   "toc_window_display": false
  }
 },
 "nbformat": 4,
 "nbformat_minor": 2
}
